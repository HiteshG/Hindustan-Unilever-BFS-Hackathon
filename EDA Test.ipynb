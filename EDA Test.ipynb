{
 "cells": [
  {
   "cell_type": "markdown",
   "metadata": {},
   "source": [
    "### Loading..."
   ]
  },
  {
   "cell_type": "code",
   "execution_count": 1,
   "metadata": {},
   "outputs": [],
   "source": [
    "import numpy as np\n",
    "import pandas as pd \n",
    "import matplotlib.pyplot as plt \n",
    "import seaborn as sns"
   ]
  },
  {
   "cell_type": "code",
   "execution_count": 2,
   "metadata": {},
   "outputs": [],
   "source": [
    "path = \"C:/users/hitesh/Learning/Skillenza/HUL BFS/data/\""
   ]
  },
  {
   "cell_type": "code",
   "execution_count": 3,
   "metadata": {},
   "outputs": [],
   "source": [
    "filename1 = \"train.csv\"\n",
    "filename2 = \"test.csv\""
   ]
  },
  {
   "cell_type": "markdown",
   "metadata": {},
   "source": [
    "### File1"
   ]
  },
  {
   "cell_type": "code",
   "execution_count": 4,
   "metadata": {},
   "outputs": [],
   "source": [
    "data1 = pd.read_csv(path+filename2)"
   ]
  },
  {
   "cell_type": "code",
   "execution_count": 5,
   "metadata": {},
   "outputs": [
    {
     "data": {
      "text/plain": [
       "(100, 11)"
      ]
     },
     "execution_count": 5,
     "metadata": {},
     "output_type": "execute_result"
    }
   ],
   "source": [
    "data1.shape"
   ]
  },
  {
   "cell_type": "code",
   "execution_count": 6,
   "metadata": {},
   "outputs": [
    {
     "name": "stdout",
     "output_type": "stream",
     "text": [
      "<class 'pandas.core.frame.DataFrame'>\n",
      "RangeIndex: 100 entries, 0 to 99\n",
      "Data columns (total 11 columns):\n",
      "v.id           100 non-null int64\n",
      "on road old    100 non-null int64\n",
      "on road now    100 non-null int64\n",
      "years          100 non-null int64\n",
      "km             100 non-null int64\n",
      "rating         100 non-null int64\n",
      "condition      100 non-null int64\n",
      "economy        100 non-null int64\n",
      "top speed      100 non-null int64\n",
      "hp             100 non-null int64\n",
      "torque         100 non-null int64\n",
      "dtypes: int64(11)\n",
      "memory usage: 8.7 KB\n"
     ]
    }
   ],
   "source": [
    "data1.info()"
   ]
  },
  {
   "cell_type": "code",
   "execution_count": 7,
   "metadata": {},
   "outputs": [
    {
     "data": {
      "text/html": [
       "<div>\n",
       "<style scoped>\n",
       "    .dataframe tbody tr th:only-of-type {\n",
       "        vertical-align: middle;\n",
       "    }\n",
       "\n",
       "    .dataframe tbody tr th {\n",
       "        vertical-align: top;\n",
       "    }\n",
       "\n",
       "    .dataframe thead th {\n",
       "        text-align: right;\n",
       "    }\n",
       "</style>\n",
       "<table border=\"1\" class=\"dataframe\">\n",
       "  <thead>\n",
       "    <tr style=\"text-align: right;\">\n",
       "      <th></th>\n",
       "      <th>on road old</th>\n",
       "      <th>on road now</th>\n",
       "      <th>years</th>\n",
       "      <th>km</th>\n",
       "      <th>rating</th>\n",
       "      <th>condition</th>\n",
       "      <th>economy</th>\n",
       "      <th>top speed</th>\n",
       "      <th>hp</th>\n",
       "      <th>torque</th>\n",
       "    </tr>\n",
       "  </thead>\n",
       "  <tbody>\n",
       "    <tr>\n",
       "      <th>count</th>\n",
       "      <td>100.000000</td>\n",
       "      <td>100.000000</td>\n",
       "      <td>100.000000</td>\n",
       "      <td>100.000000</td>\n",
       "      <td>100.000000</td>\n",
       "      <td>100.000000</td>\n",
       "      <td>100.000000</td>\n",
       "      <td>100.000000</td>\n",
       "      <td>100.000000</td>\n",
       "      <td>100.00000</td>\n",
       "    </tr>\n",
       "    <tr>\n",
       "      <th>mean</th>\n",
       "      <td>596882.450000</td>\n",
       "      <td>802484.720000</td>\n",
       "      <td>4.570000</td>\n",
       "      <td>97028.940000</td>\n",
       "      <td>3.030000</td>\n",
       "      <td>4.730000</td>\n",
       "      <td>11.540000</td>\n",
       "      <td>168.450000</td>\n",
       "      <td>85.530000</td>\n",
       "      <td>100.57000</td>\n",
       "    </tr>\n",
       "    <tr>\n",
       "      <th>std</th>\n",
       "      <td>58932.164975</td>\n",
       "      <td>59869.368032</td>\n",
       "      <td>1.759563</td>\n",
       "      <td>30809.275474</td>\n",
       "      <td>1.507255</td>\n",
       "      <td>2.933109</td>\n",
       "      <td>2.306863</td>\n",
       "      <td>19.309481</td>\n",
       "      <td>20.506444</td>\n",
       "      <td>20.29144</td>\n",
       "    </tr>\n",
       "    <tr>\n",
       "      <th>min</th>\n",
       "      <td>501916.000000</td>\n",
       "      <td>700856.000000</td>\n",
       "      <td>2.000000</td>\n",
       "      <td>50808.000000</td>\n",
       "      <td>1.000000</td>\n",
       "      <td>1.000000</td>\n",
       "      <td>8.000000</td>\n",
       "      <td>136.000000</td>\n",
       "      <td>50.000000</td>\n",
       "      <td>68.00000</td>\n",
       "    </tr>\n",
       "    <tr>\n",
       "      <th>50%</th>\n",
       "      <td>588524.000000</td>\n",
       "      <td>803998.500000</td>\n",
       "      <td>5.000000</td>\n",
       "      <td>95038.000000</td>\n",
       "      <td>3.000000</td>\n",
       "      <td>4.000000</td>\n",
       "      <td>12.000000</td>\n",
       "      <td>170.500000</td>\n",
       "      <td>89.500000</td>\n",
       "      <td>101.00000</td>\n",
       "    </tr>\n",
       "    <tr>\n",
       "      <th>max</th>\n",
       "      <td>697944.000000</td>\n",
       "      <td>899831.000000</td>\n",
       "      <td>7.000000</td>\n",
       "      <td>149358.000000</td>\n",
       "      <td>5.000000</td>\n",
       "      <td>10.000000</td>\n",
       "      <td>15.000000</td>\n",
       "      <td>200.000000</td>\n",
       "      <td>119.000000</td>\n",
       "      <td>140.00000</td>\n",
       "    </tr>\n",
       "  </tbody>\n",
       "</table>\n",
       "</div>"
      ],
      "text/plain": [
       "         on road old    on road now       years             km      rating  \\\n",
       "count     100.000000     100.000000  100.000000     100.000000  100.000000   \n",
       "mean   596882.450000  802484.720000    4.570000   97028.940000    3.030000   \n",
       "std     58932.164975   59869.368032    1.759563   30809.275474    1.507255   \n",
       "min    501916.000000  700856.000000    2.000000   50808.000000    1.000000   \n",
       "50%    588524.000000  803998.500000    5.000000   95038.000000    3.000000   \n",
       "max    697944.000000  899831.000000    7.000000  149358.000000    5.000000   \n",
       "\n",
       "        condition     economy  top speed           hp     torque  \n",
       "count  100.000000  100.000000  100.000000  100.000000  100.00000  \n",
       "mean     4.730000   11.540000  168.450000   85.530000  100.57000  \n",
       "std      2.933109    2.306863   19.309481   20.506444   20.29144  \n",
       "min      1.000000    8.000000  136.000000   50.000000   68.00000  \n",
       "50%      4.000000   12.000000  170.500000   89.500000  101.00000  \n",
       "max     10.000000   15.000000  200.000000  119.000000  140.00000  "
      ]
     },
     "execution_count": 7,
     "metadata": {},
     "output_type": "execute_result"
    }
   ],
   "source": [
    "data1.iloc[:,1:].describe(percentiles= [])"
   ]
  },
  {
   "cell_type": "code",
   "execution_count": 8,
   "metadata": {},
   "outputs": [
    {
     "data": {
      "text/html": [
       "<div>\n",
       "<style scoped>\n",
       "    .dataframe tbody tr th:only-of-type {\n",
       "        vertical-align: middle;\n",
       "    }\n",
       "\n",
       "    .dataframe tbody tr th {\n",
       "        vertical-align: top;\n",
       "    }\n",
       "\n",
       "    .dataframe thead th {\n",
       "        text-align: right;\n",
       "    }\n",
       "</style>\n",
       "<table border=\"1\" class=\"dataframe\">\n",
       "  <thead>\n",
       "    <tr style=\"text-align: right;\">\n",
       "      <th></th>\n",
       "      <th>v.id</th>\n",
       "      <th>on road old</th>\n",
       "      <th>on road now</th>\n",
       "      <th>years</th>\n",
       "      <th>km</th>\n",
       "      <th>rating</th>\n",
       "      <th>condition</th>\n",
       "      <th>economy</th>\n",
       "      <th>top speed</th>\n",
       "      <th>hp</th>\n",
       "      <th>torque</th>\n",
       "    </tr>\n",
       "  </thead>\n",
       "  <tbody>\n",
       "    <tr>\n",
       "      <th>0</th>\n",
       "      <td>1</td>\n",
       "      <td>514396</td>\n",
       "      <td>881378</td>\n",
       "      <td>3</td>\n",
       "      <td>115717</td>\n",
       "      <td>3</td>\n",
       "      <td>4</td>\n",
       "      <td>10</td>\n",
       "      <td>144</td>\n",
       "      <td>70</td>\n",
       "      <td>117</td>\n",
       "    </tr>\n",
       "    <tr>\n",
       "      <th>1</th>\n",
       "      <td>2</td>\n",
       "      <td>654594</td>\n",
       "      <td>749943</td>\n",
       "      <td>7</td>\n",
       "      <td>135999</td>\n",
       "      <td>1</td>\n",
       "      <td>2</td>\n",
       "      <td>13</td>\n",
       "      <td>161</td>\n",
       "      <td>51</td>\n",
       "      <td>70</td>\n",
       "    </tr>\n",
       "    <tr>\n",
       "      <th>2</th>\n",
       "      <td>3</td>\n",
       "      <td>559836</td>\n",
       "      <td>865594</td>\n",
       "      <td>4</td>\n",
       "      <td>142651</td>\n",
       "      <td>1</td>\n",
       "      <td>6</td>\n",
       "      <td>10</td>\n",
       "      <td>184</td>\n",
       "      <td>116</td>\n",
       "      <td>72</td>\n",
       "    </tr>\n",
       "    <tr>\n",
       "      <th>3</th>\n",
       "      <td>4</td>\n",
       "      <td>523784</td>\n",
       "      <td>870895</td>\n",
       "      <td>5</td>\n",
       "      <td>57223</td>\n",
       "      <td>4</td>\n",
       "      <td>2</td>\n",
       "      <td>14</td>\n",
       "      <td>170</td>\n",
       "      <td>76</td>\n",
       "      <td>102</td>\n",
       "    </tr>\n",
       "    <tr>\n",
       "      <th>4</th>\n",
       "      <td>5</td>\n",
       "      <td>547534</td>\n",
       "      <td>824478</td>\n",
       "      <td>4</td>\n",
       "      <td>51927</td>\n",
       "      <td>5</td>\n",
       "      <td>6</td>\n",
       "      <td>9</td>\n",
       "      <td>162</td>\n",
       "      <td>53</td>\n",
       "      <td>71</td>\n",
       "    </tr>\n",
       "  </tbody>\n",
       "</table>\n",
       "</div>"
      ],
      "text/plain": [
       "   v.id  on road old  on road now  years      km  rating  condition  economy  \\\n",
       "0     1       514396       881378      3  115717       3          4       10   \n",
       "1     2       654594       749943      7  135999       1          2       13   \n",
       "2     3       559836       865594      4  142651       1          6       10   \n",
       "3     4       523784       870895      5   57223       4          2       14   \n",
       "4     5       547534       824478      4   51927       5          6        9   \n",
       "\n",
       "   top speed    hp  torque  \n",
       "0         144   70     117  \n",
       "1         161   51      70  \n",
       "2         184  116      72  \n",
       "3         170   76     102  \n",
       "4         162   53      71  "
      ]
     },
     "execution_count": 8,
     "metadata": {},
     "output_type": "execute_result"
    }
   ],
   "source": [
    "data1.head()"
   ]
  },
  {
   "cell_type": "markdown",
   "metadata": {},
   "source": [
    "### Plots"
   ]
  },
  {
   "cell_type": "code",
   "execution_count": 21,
   "metadata": {},
   "outputs": [
    {
     "data": {
      "image/png": "[encoded data removed]",
      "text/plain": [
       "<Figure size 576x360 with 1 Axes>"
      ]
     },
     "metadata": {
      "needs_background": "light"
     },
     "output_type": "display_data"
    }
   ],
   "source": [
    "plt.figure(figsize= (8,5))\n",
    "plt.hist(data1[\"on road old\"], bins = 20)\n",
    "plt.xlabel(\"Old prices\")\n",
    "plt.ylabel(\"Frequency count\")\n",
    "plt.title(\"Old Price Distribution\");"
   ]
  },
  {
   "cell_type": "code",
   "execution_count": 20,
   "metadata": {},
   "outputs": [
    {
     "data": {
      "image/png": "[encoded data removed]",
      "text/plain": [
       "<Figure size 576x360 with 1 Axes>"
      ]
     },
     "metadata": {
      "needs_background": "light"
     },
     "output_type": "display_data"
    }
   ],
   "source": [
    "plt.figure(figsize= (8,5))\n",
    "plt.hist(data1[\"on road now\"], bins = 20, color = \"orange\")\n",
    "plt.xlabel(\"New prices\")\n",
    "plt.ylabel(\"Frequency count\")\n",
    "plt.title(\"New Price Distribution\");"
   ]
  },
  {
   "cell_type": "code",
   "execution_count": 19,
   "metadata": {},
   "outputs": [
    {
     "data": {
      "image/png": "[encoded data removed]",
      "text/plain": [
       "<Figure size 720x360 with 1 Axes>"
      ]
     },
     "metadata": {
      "needs_background": "light"
     },
     "output_type": "display_data"
    }
   ],
   "source": [
    "plt.figure(figsize= (10,5))\n",
    "plt.hist(data1[\"on road old\"], bins = 20, label= \"Old\" )\n",
    "plt.hist(data1[\"on road now\"], bins = 20, label= \"Now\" )\n",
    "plt.legend()\n",
    "plt.xlabel(\"Prices\")\n",
    "plt.ylabel(\"Frequency count\")\n",
    "plt.title(\"Price Distribution Comparison\");"
   ]
  },
  {
   "cell_type": "code",
   "execution_count": 12,
   "metadata": {},
   "outputs": [
    {
     "data": {
      "image/png": "[encoded data removed]",
      "text/plain": [
       "<Figure size 432x288 with 1 Axes>"
      ]
     },
     "metadata": {
      "needs_background": "light"
     },
     "output_type": "display_data"
    }
   ],
   "source": [
    "data1.years.value_counts().plot(kind = \"bar\")\n",
    "plt.xlabel(\"Years\")\n",
    "plt.ylabel(\"Frequency Count\")\n",
    "plt.title(\"Years count\");"
   ]
  },
  {
   "cell_type": "code",
   "execution_count": 13,
   "metadata": {},
   "outputs": [
    {
     "data": {
      "image/png": "[encoded data removed]",
      "text/plain": [
       "<Figure size 432x288 with 1 Axes>"
      ]
     },
     "metadata": {
      "needs_background": "light"
     },
     "output_type": "display_data"
    }
   ],
   "source": [
    "data1.rating.value_counts().plot(kind = \"bar\")\n",
    "plt.xlabel(\"Rating\")\n",
    "plt.ylabel(\"Frequency Count\")\n",
    "plt.title(\"Rating count\");"
   ]
  },
  {
   "cell_type": "code",
   "execution_count": 14,
   "metadata": {},
   "outputs": [
    {
     "data": {
      "image/png": "[encoded data removed]",
      "text/plain": [
       "<Figure size 432x288 with 1 Axes>"
      ]
     },
     "metadata": {
      "needs_background": "light"
     },
     "output_type": "display_data"
    }
   ],
   "source": [
    "data1.condition.value_counts().plot(kind = \"bar\")\n",
    "plt.xlabel(\"Condition\")\n",
    "plt.ylabel(\"Frequency Count\")\n",
    "plt.title(\"Condition count\");"
   ]
  },
  {
   "cell_type": "code",
   "execution_count": 15,
   "metadata": {},
   "outputs": [
    {
     "data": {
      "image/png": "[encoded data removed]",
      "text/plain": [
       "<Figure size 432x288 with 1 Axes>"
      ]
     },
     "metadata": {
      "needs_background": "light"
     },
     "output_type": "display_data"
    }
   ],
   "source": [
    "data1.economy.value_counts().plot(kind = \"bar\")\n",
    "plt.xlabel(\"Economy\")\n",
    "plt.ylabel(\"Frequency Count\")\n",
    "plt.title(\"Economy count\");"
   ]
  },
  {
   "cell_type": "code",
   "execution_count": 23,
   "metadata": {},
   "outputs": [
    {
     "data": {
      "image/png": "[encoded data removed]",
      "text/plain": [
       "<Figure size 576x360 with 1 Axes>"
      ]
     },
     "metadata": {
      "needs_background": "light"
     },
     "output_type": "display_data"
    }
   ],
   "source": [
    "plt.figure(figsize= (8,5))\n",
    "plt.hist(data1[\"top speed \"], bins = 20);\n",
    "plt.xlabel(\"Top speed\")\n",
    "plt.ylabel(\"Frequency count\")\n",
    "plt.title(\"Speed Distribution Comparison\");"
   ]
  },
  {
   "cell_type": "code",
   "execution_count": 24,
   "metadata": {},
   "outputs": [
    {
     "data": {
      "image/png": "[encoded data removed]",
      "text/plain": [
       "<Figure size 576x360 with 1 Axes>"
      ]
     },
     "metadata": {
      "needs_background": "light"
     },
     "output_type": "display_data"
    }
   ],
   "source": [
    "plt.figure(figsize= (8,5))\n",
    "plt.hist(data1[\"hp\"], bins = 20);\n",
    "plt.xlabel(\"Horsepower\")\n",
    "plt.ylabel(\"Frequency count\")\n",
    "plt.title(\"HP Distribution Comparison\");"
   ]
  },
  {
   "cell_type": "code",
   "execution_count": 25,
   "metadata": {},
   "outputs": [
    {
     "data": {
      "image/png": "[encoded data removed]",
      "text/plain": [
       "<Figure size 576x360 with 1 Axes>"
      ]
     },
     "metadata": {
      "needs_background": "light"
     },
     "output_type": "display_data"
    }
   ],
   "source": [
    "plt.figure(figsize= (8,5))\n",
    "plt.hist(data1[\"torque\"], bins = 20);\n",
    "plt.xlabel(\"Top speed\")\n",
    "plt.ylabel(\"Frequency count\")\n",
    "plt.title(\"Speed Distribution Comparison\");"
   ]
  },
  {
   "cell_type": "code",
   "execution_count": null,
   "metadata": {},
   "outputs": [],
   "source": []
  }
 ],
 "metadata": {
  "kernelspec": {
   "display_name": "Python 3",
   "language": "python",
   "name": "python3"
  },
  "language_info": {
   "codemirror_mode": {
    "name": "ipython",
    "version": 3
   },
   "file_extension": ".py",
   "mimetype": "text/x-python",
   "name": "python",
   "nbconvert_exporter": "python",
   "pygments_lexer": "ipython3",
   "version": "3.6.6"
  },
  "toc": {
   "base_numbering": 1,
   "nav_menu": {},
   "number_sections": true,
   "sideBar": true,
   "skip_h1_title": false,
   "title_cell": "Table of Contents",
   "title_sidebar": "Contents",
   "toc_cell": false,
   "toc_position": {},
   "toc_section_display": true,
   "toc_window_display": false
  },
  "varInspector": {
   "cols": {
    "lenName": 16,
    "lenType": 16,
    "lenVar": 40
   },
   "kernels_config": {
    "python": {
     "delete_cmd_postfix": "",
     "delete_cmd_prefix": "del ",
     "library": "var_list.py",
     "varRefreshCmd": "print(var_dic_list())"
    },
    "r": {
     "delete_cmd_postfix": ") ",
     "delete_cmd_prefix": "rm(",
     "library": "var_list.r",
     "varRefreshCmd": "cat(var_dic_list()) "
    }
   },
   "types_to_exclude": [
    "module",
    "function",
    "builtin_function_or_method",
    "instance",
    "_Feature"
   ],
   "window_display": false
  }
 },
 "nbformat": 4,
 "nbformat_minor": 2
}
