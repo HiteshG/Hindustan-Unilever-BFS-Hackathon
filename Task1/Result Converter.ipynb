{
 "cells": [
  {
   "cell_type": "code",
   "execution_count": 16,
   "metadata": {},
   "outputs": [],
   "source": [
    "import pandas as pd \n",
    "import numpy as np \n",
    "import matplotlib.pyplot as plt\n",
    "import seaborn as sns"
   ]
  },
  {
   "cell_type": "code",
   "execution_count": 8,
   "metadata": {},
   "outputs": [],
   "source": [
    "path = \"C:/users/hitesh/Learning/Skillenza/HUL BFS/\""
   ]
  },
  {
   "cell_type": "code",
   "execution_count": 9,
   "metadata": {},
   "outputs": [],
   "source": [
    "filename1 = \"Res1.csv\"\n",
    "filename2 = \"xgbres.csv\""
   ]
  },
  {
   "cell_type": "code",
   "execution_count": 10,
   "metadata": {},
   "outputs": [],
   "source": [
    "f1 = pd.read_csv(path + filename1)"
   ]
  },
  {
   "cell_type": "code",
   "execution_count": 11,
   "metadata": {},
   "outputs": [],
   "source": [
    "f2 = pd.read_csv(path + filename2)"
   ]
  },
  {
   "cell_type": "code",
   "execution_count": 29,
   "metadata": {},
   "outputs": [],
   "source": [
    "new_df = pd.DataFrame({'id': f1[\"v.id\"], 'res1': f1[\"current price\"], 'res2': f2[\"current price\"] ,\n",
    "                       'diff': f1[\"current price\"] - f2[\"current price\"] , \n",
    "                      'm': (f1[\"current price\"]+ f2[\"current price\"])/2 })"
   ]
  },
  {
   "cell_type": "code",
   "execution_count": 30,
   "metadata": {},
   "outputs": [
    {
     "data": {
      "text/html": [
       "<div>\n",
       "<style scoped>\n",
       "    .dataframe tbody tr th:only-of-type {\n",
       "        vertical-align: middle;\n",
       "    }\n",
       "\n",
       "    .dataframe tbody tr th {\n",
       "        vertical-align: top;\n",
       "    }\n",
       "\n",
       "    .dataframe thead th {\n",
       "        text-align: right;\n",
       "    }\n",
       "</style>\n",
       "<table border=\"1\" class=\"dataframe\">\n",
       "  <thead>\n",
       "    <tr style=\"text-align: right;\">\n",
       "      <th></th>\n",
       "      <th>id</th>\n",
       "      <th>res1</th>\n",
       "      <th>res2</th>\n",
       "      <th>diff</th>\n",
       "      <th>m</th>\n",
       "    </tr>\n",
       "  </thead>\n",
       "  <tbody>\n",
       "    <tr>\n",
       "      <th>0</th>\n",
       "      <td>1</td>\n",
       "      <td>234207.6106</td>\n",
       "      <td>231642.620</td>\n",
       "      <td>2564.9906</td>\n",
       "      <td>232925.11530</td>\n",
       "    </tr>\n",
       "    <tr>\n",
       "      <th>1</th>\n",
       "      <td>2</td>\n",
       "      <td>148735.4842</td>\n",
       "      <td>151222.450</td>\n",
       "      <td>-2486.9658</td>\n",
       "      <td>149978.96710</td>\n",
       "    </tr>\n",
       "    <tr>\n",
       "      <th>2</th>\n",
       "      <td>3</td>\n",
       "      <td>143442.8515</td>\n",
       "      <td>141953.080</td>\n",
       "      <td>1489.7715</td>\n",
       "      <td>142697.96575</td>\n",
       "    </tr>\n",
       "    <tr>\n",
       "      <th>3</th>\n",
       "      <td>4</td>\n",
       "      <td>468651.2305</td>\n",
       "      <td>471271.620</td>\n",
       "      <td>-2620.3895</td>\n",
       "      <td>469961.42525</td>\n",
       "    </tr>\n",
       "    <tr>\n",
       "      <th>4</th>\n",
       "      <td>5</td>\n",
       "      <td>484729.2197</td>\n",
       "      <td>480912.880</td>\n",
       "      <td>3816.3397</td>\n",
       "      <td>482821.04985</td>\n",
       "    </tr>\n",
       "    <tr>\n",
       "      <th>5</th>\n",
       "      <td>6</td>\n",
       "      <td>366082.4805</td>\n",
       "      <td>359607.720</td>\n",
       "      <td>6474.7605</td>\n",
       "      <td>362845.10025</td>\n",
       "    </tr>\n",
       "    <tr>\n",
       "      <th>6</th>\n",
       "      <td>7</td>\n",
       "      <td>199781.6562</td>\n",
       "      <td>204947.440</td>\n",
       "      <td>-5165.7838</td>\n",
       "      <td>202364.54810</td>\n",
       "    </tr>\n",
       "    <tr>\n",
       "      <th>7</th>\n",
       "      <td>8</td>\n",
       "      <td>432368.7843</td>\n",
       "      <td>432790.750</td>\n",
       "      <td>-421.9657</td>\n",
       "      <td>432579.76715</td>\n",
       "    </tr>\n",
       "    <tr>\n",
       "      <th>8</th>\n",
       "      <td>9</td>\n",
       "      <td>118882.8432</td>\n",
       "      <td>119947.600</td>\n",
       "      <td>-1064.7568</td>\n",
       "      <td>119415.22160</td>\n",
       "    </tr>\n",
       "    <tr>\n",
       "      <th>9</th>\n",
       "      <td>10</td>\n",
       "      <td>108022.8700</td>\n",
       "      <td>118471.305</td>\n",
       "      <td>-10448.4350</td>\n",
       "      <td>113247.08750</td>\n",
       "    </tr>\n",
       "  </tbody>\n",
       "</table>\n",
       "</div>"
      ],
      "text/plain": [
       "   id         res1        res2        diff             m\n",
       "0   1  234207.6106  231642.620   2564.9906  232925.11530\n",
       "1   2  148735.4842  151222.450  -2486.9658  149978.96710\n",
       "2   3  143442.8515  141953.080   1489.7715  142697.96575\n",
       "3   4  468651.2305  471271.620  -2620.3895  469961.42525\n",
       "4   5  484729.2197  480912.880   3816.3397  482821.04985\n",
       "5   6  366082.4805  359607.720   6474.7605  362845.10025\n",
       "6   7  199781.6562  204947.440  -5165.7838  202364.54810\n",
       "7   8  432368.7843  432790.750   -421.9657  432579.76715\n",
       "8   9  118882.8432  119947.600  -1064.7568  119415.22160\n",
       "9  10  108022.8700  118471.305 -10448.4350  113247.08750"
      ]
     },
     "execution_count": 30,
     "metadata": {},
     "output_type": "execute_result"
    }
   ],
   "source": [
    "new_df.head(10)"
   ]
  },
  {
   "cell_type": "code",
   "execution_count": 17,
   "metadata": {},
   "outputs": [
    {
     "name": "stderr",
     "output_type": "stream",
     "text": [
      "C:\\Users\\hitesh\\Anaconda3\\lib\\site-packages\\scipy\\stats\\stats.py:1713: FutureWarning: Using a non-tuple sequence for multidimensional indexing is deprecated; use `arr[tuple(seq)]` instead of `arr[seq]`. In the future this will be interpreted as an array index, `arr[np.array(seq)]`, which will result either in an error or a different result.\n",
      "  return np.add.reduce(sorted[indexer] * weights, axis=axis) / sumval\n"
     ]
    },
    {
     "data": {
      "text/plain": [
       "<matplotlib.axes._subplots.AxesSubplot at 0x2c34a3a748>"
      ]
     },
     "execution_count": 17,
     "metadata": {},
     "output_type": "execute_result"
    },
    {
     "data": {
      "image/png": "[encoded data removed]",
      "text/plain": [
       "<Figure size 432x288 with 1 Axes>"
      ]
     },
     "metadata": {
      "needs_background": "light"
     },
     "output_type": "display_data"
    }
   ],
   "source": [
    "sns.distplot(new_df[\"diff\"])"
   ]
  },
  {
   "cell_type": "code",
   "execution_count": 31,
   "metadata": {},
   "outputs": [
    {
     "data": {
      "image/png": "[encoded data removed]",
      "text/plain": [
       "<Figure size 576x360 with 1 Axes>"
      ]
     },
     "metadata": {
      "needs_background": "light"
     },
     "output_type": "display_data"
    }
   ],
   "source": [
    "plt.figure(figsize= (8,5))\n",
    "plt.hist(new_df.res1, bins = 10)\n",
    "plt.hist(new_df.res2, bins= 10)\n",
    "plt.hist(new_df.m, bins =10)\n",
    "plt.xlabel(\"Old prices\")\n",
    "plt.ylabel(\"Frequency count\")\n",
    "plt.title(\"Old Price Distribution\");"
   ]
  },
  {
   "cell_type": "code",
   "execution_count": null,
   "metadata": {},
   "outputs": [],
   "source": [
    "data: {\"rmse\":1349.3669416326543}\n",
    "data: {\"rmse\":5672.39070529525}\n",
    "data: {\"rmse\":2865.368275532555}"
   ]
  },
  {
   "cell_type": "code",
   "execution_count": 32,
   "metadata": {},
   "outputs": [],
   "source": [
    "res_mean = pd.DataFrame({\"v.id\": f1[\"v.id\"], \"current price\": new_df.m})"
   ]
  },
  {
   "cell_type": "code",
   "execution_count": 34,
   "metadata": {},
   "outputs": [],
   "source": [
    "res_mean.to_csv(\"res_mean.csv\", index= False)"
   ]
  },
  {
   "cell_type": "code",
   "execution_count": null,
   "metadata": {},
   "outputs": [],
   "source": []
  }
 ],
 "metadata": {
  "kernelspec": {
   "display_name": "Python 3",
   "language": "python",
   "name": "python3"
  },
  "language_info": {
   "codemirror_mode": {
    "name": "ipython",
    "version": 3
   },
   "file_extension": ".py",
   "mimetype": "text/x-python",
   "name": "python",
   "nbconvert_exporter": "python",
   "pygments_lexer": "ipython3",
   "version": "3.6.6"
  },
  "toc": {
   "base_numbering": 1,
   "nav_menu": {},
   "number_sections": true,
   "sideBar": true,
   "skip_h1_title": false,
   "title_cell": "Table of Contents",
   "title_sidebar": "Contents",
   "toc_cell": false,
   "toc_position": {},
   "toc_section_display": true,
   "toc_window_display": false
  },
  "varInspector": {
   "cols": {
    "lenName": 16,
    "lenType": 16,
    "lenVar": 40
   },
   "kernels_config": {
    "python": {
     "delete_cmd_postfix": "",
     "delete_cmd_prefix": "del ",
     "library": "var_list.py",
     "varRefreshCmd": "print(var_dic_list())"
    },
    "r": {
     "delete_cmd_postfix": ") ",
     "delete_cmd_prefix": "rm(",
     "library": "var_list.r",
     "varRefreshCmd": "cat(var_dic_list()) "
    }
   },
   "types_to_exclude": [
    "module",
    "function",
    "builtin_function_or_method",
    "instance",
    "_Feature"
   ],
   "window_display": false
  }
 },
 "nbformat": 4,
 "nbformat_minor": 2
}
